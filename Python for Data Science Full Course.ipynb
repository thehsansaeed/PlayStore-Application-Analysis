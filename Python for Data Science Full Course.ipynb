{
 "cells": [
  {
   "cell_type": "code",
   "execution_count": null,
   "id": "37d68705",
   "metadata": {},
   "outputs": [],
   "source": [
    "#Creating Tuple"
   ]
  },
  {
   "cell_type": "code",
   "execution_count": 2,
   "id": "5765f90e",
   "metadata": {},
   "outputs": [],
   "source": [
    "tup1 =(1,2,3)\n",
    "tup2 =(4,5,6)"
   ]
  },
  {
   "cell_type": "code",
   "execution_count": 5,
   "id": "2e6617d2",
   "metadata": {},
   "outputs": [
    {
     "data": {
      "text/plain": [
       "((1, 2, 3), (4, 5, 6))"
      ]
     },
     "execution_count": 5,
     "metadata": {},
     "output_type": "execute_result"
    }
   ],
   "source": [
    "tup1,tup2"
   ]
  },
  {
   "cell_type": "code",
   "execution_count": 6,
   "id": "59c46ac3",
   "metadata": {},
   "outputs": [
    {
     "data": {
      "text/plain": [
       "(1, 2, 3, 4, 5, 6)"
      ]
     },
     "execution_count": 6,
     "metadata": {},
     "output_type": "execute_result"
    }
   ],
   "source": [
    "tup1+tup2"
   ]
  },
  {
   "cell_type": "code",
   "execution_count": 8,
   "id": "c101235e",
   "metadata": {},
   "outputs": [
    {
     "data": {
      "text/plain": [
       "(1, 2, 3, 1, 2, 3, 1, 2, 3, 1, 2, 3, 1, 2, 3)"
      ]
     },
     "execution_count": 8,
     "metadata": {},
     "output_type": "execute_result"
    }
   ],
   "source": [
    "tup1*5    #5 time repeat"
   ]
  },
  {
   "cell_type": "code",
   "execution_count": 9,
   "id": "6da8332c",
   "metadata": {},
   "outputs": [
    {
     "data": {
      "text/plain": [
       "1"
      ]
     },
     "execution_count": 9,
     "metadata": {},
     "output_type": "execute_result"
    }
   ],
   "source": [
    "min (tup1)"
   ]
  },
  {
   "cell_type": "code",
   "execution_count": 10,
   "id": "a972c0e4",
   "metadata": {},
   "outputs": [
    {
     "data": {
      "text/plain": [
       "3"
      ]
     },
     "execution_count": 10,
     "metadata": {},
     "output_type": "execute_result"
    }
   ],
   "source": [
    "max (tup1)"
   ]
  },
  {
   "cell_type": "code",
   "execution_count": 11,
   "id": "53282185",
   "metadata": {},
   "outputs": [],
   "source": [
    "#Creating List"
   ]
  },
  {
   "cell_type": "code",
   "execution_count": 4,
   "id": "b8a36261",
   "metadata": {},
   "outputs": [],
   "source": [
    "li = [1,'sparta',3.14,True]"
   ]
  },
  {
   "cell_type": "code",
   "execution_count": 5,
   "id": "4bc83b04",
   "metadata": {},
   "outputs": [
    {
     "data": {
      "text/plain": [
       "[1, 'sparta', 3.14, True]"
      ]
     },
     "execution_count": 5,
     "metadata": {},
     "output_type": "execute_result"
    }
   ],
   "source": [
    "li"
   ]
  },
  {
   "cell_type": "code",
   "execution_count": 7,
   "id": "aa4cdbf5",
   "metadata": {},
   "outputs": [
    {
     "data": {
      "text/plain": [
       "'sparta'"
      ]
     },
     "execution_count": 7,
     "metadata": {},
     "output_type": "execute_result"
    }
   ],
   "source": [
    "li[1]"
   ]
  },
  {
   "cell_type": "code",
   "execution_count": 8,
   "id": "5a094a8b",
   "metadata": {},
   "outputs": [
    {
     "data": {
      "text/plain": [
       "[3.14, True]"
      ]
     },
     "execution_count": 8,
     "metadata": {},
     "output_type": "execute_result"
    }
   ],
   "source": [
    "li[2:4]"
   ]
  },
  {
   "cell_type": "code",
   "execution_count": 9,
   "id": "17a6fc4b",
   "metadata": {},
   "outputs": [
    {
     "data": {
      "text/plain": [
       "[1, 'sparta', 3.14, True]"
      ]
     },
     "execution_count": 9,
     "metadata": {},
     "output_type": "execute_result"
    }
   ],
   "source": [
    "li"
   ]
  },
  {
   "cell_type": "code",
   "execution_count": 10,
   "id": "34a9bf44",
   "metadata": {},
   "outputs": [],
   "source": [
    "li[0] = 100"
   ]
  },
  {
   "cell_type": "code",
   "execution_count": 11,
   "id": "5f2b9a45",
   "metadata": {},
   "outputs": [
    {
     "data": {
      "text/plain": [
       "[100, 'sparta', 3.14, True]"
      ]
     },
     "execution_count": 11,
     "metadata": {},
     "output_type": "execute_result"
    }
   ],
   "source": [
    "li"
   ]
  },
  {
   "cell_type": "code",
   "execution_count": 12,
   "id": "cc6a8058",
   "metadata": {},
   "outputs": [],
   "source": [
    "li.append(-87.77)"
   ]
  },
  {
   "cell_type": "code",
   "execution_count": 24,
   "id": "79f3e5b7",
   "metadata": {},
   "outputs": [
    {
     "data": {
      "text/plain": [
       "[100, 'sparta', 3.14, 4.5, True, -87.77]"
      ]
     },
     "execution_count": 24,
     "metadata": {},
     "output_type": "execute_result"
    }
   ],
   "source": [
    "li"
   ]
  },
  {
   "cell_type": "code",
   "execution_count": 19,
   "id": "5bf64139",
   "metadata": {},
   "outputs": [],
   "source": [
    "li2 = [1, 2, 3, 4, 5]"
   ]
  },
  {
   "cell_type": "code",
   "execution_count": 20,
   "id": "d4967d18",
   "metadata": {},
   "outputs": [],
   "source": [
    "li2.insert(3,4.5)"
   ]
  },
  {
   "cell_type": "code",
   "execution_count": 21,
   "id": "41c2bb76",
   "metadata": {},
   "outputs": [
    {
     "data": {
      "text/plain": [
       "[1, 2, 3, 4.5, 4, 5]"
      ]
     },
     "execution_count": 21,
     "metadata": {},
     "output_type": "execute_result"
    }
   ],
   "source": [
    "li2"
   ]
  },
  {
   "cell_type": "code",
   "execution_count": 25,
   "id": "3b639fdf",
   "metadata": {},
   "outputs": [],
   "source": [
    "li3 = ['456',12,90,23,True,False]"
   ]
  },
  {
   "cell_type": "code",
   "execution_count": 29,
   "id": "bf276cff",
   "metadata": {},
   "outputs": [
    {
     "data": {
      "text/plain": [
       "['456', 12, 90, 23, True, False]"
      ]
     },
     "execution_count": 29,
     "metadata": {},
     "output_type": "execute_result"
    }
   ],
   "source": [
    "li3"
   ]
  },
  {
   "cell_type": "code",
   "execution_count": 30,
   "id": "4bbd975c",
   "metadata": {},
   "outputs": [],
   "source": [
    "li3.reverse()"
   ]
  },
  {
   "cell_type": "code",
   "execution_count": 31,
   "id": "c3b276e2",
   "metadata": {},
   "outputs": [
    {
     "data": {
      "text/plain": [
       "[False, True, 23, 90, 12, '456']"
      ]
     },
     "execution_count": 31,
     "metadata": {},
     "output_type": "execute_result"
    }
   ],
   "source": [
    "li3"
   ]
  },
  {
   "cell_type": "code",
   "execution_count": 32,
   "id": "690ce9c2",
   "metadata": {},
   "outputs": [],
   "source": [
    "li3.insert(3,'hello')"
   ]
  },
  {
   "cell_type": "code",
   "execution_count": 33,
   "id": "73317f8d",
   "metadata": {},
   "outputs": [
    {
     "data": {
      "text/plain": [
       "[False, True, 23, 'hello', 90, 12, '456']"
      ]
     },
     "execution_count": 33,
     "metadata": {},
     "output_type": "execute_result"
    }
   ],
   "source": [
    "li3"
   ]
  },
  {
   "cell_type": "code",
   "execution_count": 42,
   "id": "468e5d4e",
   "metadata": {},
   "outputs": [],
   "source": [
    "li4=['a','b','j','c',]"
   ]
  },
  {
   "cell_type": "code",
   "execution_count": 47,
   "id": "9249b910",
   "metadata": {},
   "outputs": [
    {
     "data": {
      "text/plain": [
       "['a', 'b', 'c', 'j']"
      ]
     },
     "execution_count": 47,
     "metadata": {},
     "output_type": "execute_result"
    }
   ],
   "source": [
    "li4"
   ]
  },
  {
   "cell_type": "code",
   "execution_count": 44,
   "id": "c6a0a5a9",
   "metadata": {},
   "outputs": [],
   "source": [
    "li4.sort()"
   ]
  },
  {
   "cell_type": "code",
   "execution_count": 48,
   "id": "ea84a2b5",
   "metadata": {},
   "outputs": [
    {
     "data": {
      "text/plain": [
       "['a', 'b', 'c', 'j']"
      ]
     },
     "execution_count": 48,
     "metadata": {},
     "output_type": "execute_result"
    }
   ],
   "source": [
    "li4"
   ]
  },
  {
   "cell_type": "code",
   "execution_count": 61,
   "id": "bfd79390",
   "metadata": {},
   "outputs": [
    {
     "data": {
      "text/plain": [
       "[-87.77,\n",
       " True,\n",
       " 4.5,\n",
       " 3.14,\n",
       " 'sparta',\n",
       " 100,\n",
       " 1,\n",
       " 2,\n",
       " 3,\n",
       " 4.5,\n",
       " 4,\n",
       " 5,\n",
       " False,\n",
       " True,\n",
       " 23,\n",
       " 'hello',\n",
       " 90,\n",
       " 12,\n",
       " '456',\n",
       " 'a',\n",
       " 'b',\n",
       " 'c',\n",
       " 'j']"
      ]
     },
     "execution_count": 61,
     "metadata": {},
     "output_type": "execute_result"
    }
   ],
   "source": [
    "li + li2 + li3 + li4  # combine list 1 , 2, 3 and 4"
   ]
  }
 ],
 "metadata": {
  "kernelspec": {
   "display_name": "Python 3 (ipykernel)",
   "language": "python",
   "name": "python3"
  },
  "language_info": {
   "codemirror_mode": {
    "name": "ipython",
    "version": 3
   },
   "file_extension": ".py",
   "mimetype": "text/x-python",
   "name": "python",
   "nbconvert_exporter": "python",
   "pygments_lexer": "ipython3",
   "version": "3.9.13"
  }
 },
 "nbformat": 4,
 "nbformat_minor": 5
}
